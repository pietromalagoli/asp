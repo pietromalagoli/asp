{
 "cells": [
  {
   "cell_type": "markdown",
   "metadata": {},
   "source": [
    "## Laboratory 3 - Bayesian Inference ##"
   ]
  },
  {
   "cell_type": "markdown",
   "metadata": {},
   "source": [
    "# Exercise 1 #"
   ]
  },
  {
   "cell_type": "markdown",
   "metadata": {
    "vscode": {
     "languageId": "r"
    }
   },
   "source": [
    "The number of particles emitted by a radioactive source during a fixed interval of time\n",
    "(∆t = 10 s) follows a Poisson distribution on the parameter µ. The number of particles\n",
    "observed during consecutive time intervals is: 4, 1, 3, 1, 5 and 3. \n",
    "\n",
    "(a) assuming a positive uniform prior distribution for the parameter µ\n",
    "- determine and draw the posterior distribution for µ, given the data\n",
    "- evaluate mean, median and variance, both analytically and numerically in R \n",
    "\n",
    "(b) assuming a Gamma prior such that the expected value is µ = 3 with a standard\n",
    "deviation σ = 1,\n",
    "- determine and draw the posterior distribution for µ, given the data\n",
    "- evaluate mean, median and variance, both analytically and numerically in R. \n",
    "\n",
    "(c) evaluate a 95% credibility interval for the results obtained with different priors. Compare the result with that obtained using a normal approximation for the posterior\n",
    "distribution, with the same mean and standard deviation\n"
   ]
  },
  {
   "cell_type": "code",
   "execution_count": null,
   "metadata": {
    "vscode": {
     "languageId": "r"
    }
   },
   "outputs": [],
   "source": []
  }
 ],
 "metadata": {
  "kernelspec": {
   "display_name": "R",
   "language": "R",
   "name": "ir"
  },
  "language_info": {
   "name": "R"
  }
 },
 "nbformat": 4,
 "nbformat_minor": 2
}
