{
 "cells": [
  {
   "cell_type": "code",
   "execution_count": 1,
   "metadata": {
    "vscode": {
     "languageId": "r"
    }
   },
   "outputs": [],
   "source": [
    "library(ggplot2)\n",
    "library(coda)"
   ]
  },
  {
   "cell_type": "markdown",
   "metadata": {},
   "source": [
    "# Exercise 1 #"
   ]
  },
  {
   "cell_type": "markdown",
   "metadata": {},
   "source": [
    "given the following un-normalized posterior distribution:"
   ]
  },
  {
   "cell_type": "markdown",
   "metadata": {},
   "source": [
    "$$\n",
    "g(\\theta \\mid x) \\propto \\frac{1}{2} \\exp -\\frac{(\\theta+3)^{2}}{2}+\\frac{1}{2} \\exp -\\frac{(\\theta-3)^{2}}{2}\n",
    "$$"
   ]
  },
  {
   "cell_type": "markdown",
   "metadata": {
    "vscode": {
     "languageId": "r"
    }
   },
   "source": [
    "•draw a Markov Chain from the posterior distribution using a Metropolis-Hastings algorithm\n",
    "\n",
    "•use a Norm (0,1) as random-walk candidate density\n",
    "\n",
    "•plot the sampled distribution"
   ]
  },
  {
   "cell_type": "code",
   "execution_count": 6,
   "metadata": {
    "vscode": {
     "languageId": "r"
    }
   },
   "outputs": [
    {
     "ename": "ERROR",
     "evalue": "Error in if (logMR >= 0 || logMR <= runif(1)) {: missing value where TRUE/FALSE needed\n",
     "output_type": "error",
     "traceback": [
      "Error in if (logMR >= 0 || logMR <= runif(1)) {: missing value where TRUE/FALSE needed\nTraceback:\n",
      "1. metropolis(func_test, theta_init, n_samples)"
     ]
    },
    {
     "data": {
      "image/png": "[encoded data removed]",
      "text/plain": [
       "plot without title"
      ]
     },
     "metadata": {
      "image/png": {
       "height": 420,
       "width": 420
      }
     },
     "output_type": "display_data"
    }
   ],
   "source": [
    "gfunc <- function(theta) {\n",
    "    return(0.5 * exp(-((theta + 3)^2 / 2)) + 0.5 * exp(-(theta - 3)^2 / 2))\n",
    "}\n",
    "\n",
    "metropolis <- function(func, theta_init, n_samples) {\n",
    "    # Initialization\n",
    "    theta_curr <- theta_init\n",
    "    func_curr <- func(theta_curr)\n",
    "    func_samp <- matrix(data=NA, nrow=n_samples, ncol=2)\n",
    "    n_accept <- 0\n",
    "\n",
    "    for (n in 1:n_samples) {\n",
    "        # Extract the proposed state\n",
    "        theta_prop <- rnorm(1, theta_curr, 1)\n",
    "        func_prop <- func(theta_prop)\n",
    "        logMR <- func_prop - func_curr  ## Log10 of func must be given in \n",
    "\n",
    "        if (logMR >= 0 || logMR <= runif(1)) {\n",
    "            theta_curr <- theta_prop\n",
    "            func_curr <- func_prop\n",
    "            n_accept <- n_accept + 1\n",
    "        }\n",
    "        func_samp[n, 1] <- func_curr\n",
    "        func_samp[n, 2] <- theta_curr\n",
    "    }\n",
    "    return(func_samp)\n",
    "}\n",
    "\n",
    "# Plot the actual function\n",
    "t = seq(-5, 5, 10 / 1e5)\n",
    "df = data.frame(theta = t, func = log10(gfunc(t)))\n",
    "#plot(t, log10(gfunc(t)), xlab = )\n",
    "ggplot(df, aes(x = theta, y = func)) +\n",
    "    geom_line(aes(x = theta, y = func)) +\n",
    "    xlab(expression(theta)) + \n",
    "    ylab(expression(paste('f(',theta,')', sep='')))\n",
    "\n",
    "# Testing\n",
    "theta_init <- 1\n",
    "n_samples <- 1e5\n",
    "func_test <- function(theta) {\n",
    "    return(log10(gfunc(theta)))\n",
    "}\n",
    "\n",
    "#set.seed(12345)\n",
    "result <- metropolis(func_test, theta_init, n_samples)\n",
    "#result[, 1]\n",
    "func_res = array(result[, 1])\n",
    "theta_res = array(result[, 2])\n",
    "actual_func = log10(gfunc(theta_res))\n",
    "df_result = data.frame(theta_res = theta_res, func_res = func_res, actual_func = actual_func)\n",
    "ggplot(df_result) +\n",
    "    geom_line(aes(x = theta_res, y = func_res), color = 'red') +\n",
    "    geom_line(aes(x = theta_res, y = actual_func), color = 'blue') +\n",
    "    xlab(expression(theta)) + \n",
    "    ylab(expression(paste('f(',theta,')', sep='')))\n",
    "#plot(theta_res, func_res, xlab = expression(theta), ylab = expression(paste('f(',theta,')', sep='')))\n",
    "#result"
   ]
  },
  {
   "cell_type": "markdown",
   "metadata": {},
   "source": [
    "•analyze the chain with the CODA package and plot the chain autocorrelation"
   ]
  },
  {
   "cell_type": "code",
   "execution_count": null,
   "metadata": {
    "vscode": {
     "languageId": "r"
    }
   },
   "outputs": [],
   "source": [
    "coda_chain = as.mcmc(theta_res)\n",
    "\n",
    "lags = seq(0, 1000, 10)\n",
    "corr = autocorr(coda_chain, lags)\n",
    "#print(corr)\n",
    "\n",
    "df = data.frame(lags = lags, corr = corr)\n",
    "\n",
    "ggplot(df) +\n",
    "    geom_line(aes(lags, corr), color = 'navyblue') +\n",
    "    geom_point(aes(lags, corr)) +\n",
    "    xlab(\"Lags\") +\n",
    "    ylab(\"Correlation\")\n",
    "\n"
   ]
  },
  {
   "cell_type": "markdown",
   "metadata": {},
   "source": [
    "•try to use different burn-in cycles and thinning and plot the corresponding posterior distribution\n",
    "and the chain autocorrelation function. What are the best parameters ?"
   ]
  },
  {
   "cell_type": "code",
   "execution_count": null,
   "metadata": {
    "vscode": {
     "languageId": "r"
    }
   },
   "outputs": [],
   "source": [
    "# Plot the actual function\n",
    "t = seq(-5, 5, 10 / 1e5)\n",
    "df = data.frame(theta = t, func = log10(gfunc(t)))\n",
    "#plot(t, log10(gfunc(t)), xlab = )\n",
    "ggplot(df, aes(x = theta, y = func)) +\n",
    "    geom_line(aes(x = theta, y = func), color = 'navyblue') +\n",
    "    labs(title = \"Actual function\") +\n",
    "    xlab(expression(theta)) + \n",
    "    ylab(expression(paste('f(',theta,')', sep='')))\n",
    "\n",
    "func_test <- function(theta) {\n",
    "    return(log10(gfunc(theta)))\n",
    "}\n",
    "\n",
    "par(mfrow = c(2, 10))\n",
    "# Testing\n",
    "for (theta in seq(-5, 5, 1)) {\n",
    "    # Testing\n",
    "    print(theta)\n",
    "    theta_init <- theta\n",
    "    n_samples <- 1e5\n",
    "\n",
    "    #set.seed(12345)\n",
    "    result <- metropolis(func_test, theta_init, n_samples)\n",
    "    func_res = array(result[, 1])\n",
    "    theta_res = array(result[, 2])\n",
    "    actual_func = log10(gfunc(theta_res))\n",
    "    df_result = data.frame(theta_res = theta_res, func_res = func_res, actual_func = actual_func)\n",
    "    ggplot(df_result) +\n",
    "        geom_line(aes(x = theta_res, y = func_res), color = 'red') +\n",
    "        geom_line(aes(x = theta_res, y = actual_func), color = 'blue') +\n",
    "        xlab(expression(theta)) + \n",
    "        ylab(expression(paste('f(',theta,')', sep='')))\n",
    "}"
   ]
  },
  {
   "cell_type": "code",
   "execution_count": null,
   "metadata": {
    "vscode": {
     "languageId": "r"
    }
   },
   "outputs": [],
   "source": [
    "# Burn-in \n",
    "for (n_burn_in in seq(0, 1000, 100)) {\n",
    "    result_burnt = result[n_burn_in:n_samples,]\n",
    "\n",
    "    func_res = array(result_burnt[, 1])\n",
    "    theta_res = array(result_burnt[, 2])\n",
    "    df_result = data.frame(theta_res = theta_res, func_res = func_res)\n",
    "    ggplot(df_result) +\n",
    "        geom_line(aes(x = theta_res, y = func_res), color = 'red') +\n",
    "        labs(title = paste(\"Burn-in\", n_burn_in)) +\n",
    "        xlab(expression(theta)) + \n",
    "        ylab(expression(paste('f(',theta,')', sep='')))\n",
    "}"
   ]
  },
  {
   "cell_type": "markdown",
   "metadata": {},
   "source": [
    "# Exercise 2 #"
   ]
  },
  {
   "cell_type": "markdown",
   "metadata": {},
   "source": [
    "A set of measured data should follow, according to the physics model applied to them, a linear\n",
    "behavior. Data are the following:"
   ]
  },
  {
   "cell_type": "markdown",
   "metadata": {},
   "source": [
    "| $\\mathrm{Y}$ | -7.821 | -1.494 | -15.444 | -10.807 | -13.735 | -14.442 | -15.892 | -18.326 |\n",
    "| :---: | :---: | :---: | :---: | :---: | :---: | :---: | :---: | :---: |\n",
    "| $\\mathrm{X}$ | 5 | 6 | 7 | 8 | 9 | 10 | 11 | 12 |"
   ]
  },
  {
   "cell_type": "markdown",
   "metadata": {},
   "source": [
    "• perform a simple linear regression model running a Markov Chain Monte Carlo with JAGS, assuming\n",
    "that data follow the model:"
   ]
  },
  {
   "cell_type": "markdown",
   "metadata": {},
   "source": [
    "$$\n",
    "(\\mathrm{Z}[\\mathrm{i}]=\\mathrm{a}+\\mathrm{b} * \\mathrm{X}[\\mathrm{i}])\n",
    "$$"
   ]
  }
 ],
 "metadata": {
  "kernelspec": {
   "display_name": "R",
   "language": "R",
   "name": "ir"
  },
  "language_info": {
   "codemirror_mode": "r",
   "file_extension": ".r",
   "mimetype": "text/x-r-source",
   "name": "R",
   "pygments_lexer": "r",
   "version": "4.3.3"
  }
 },
 "nbformat": 4,
 "nbformat_minor": 2
}
