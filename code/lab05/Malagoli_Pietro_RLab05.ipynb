{
 "cells": [
  {
   "cell_type": "code",
   "execution_count": null,
   "metadata": {
    "vscode": {
     "languageId": "r"
    }
   },
   "outputs": [],
   "source": [
    "library(ggplot2)"
   ]
  },
  {
   "cell_type": "markdown",
   "metadata": {},
   "source": [
    "# Exercise 1 #"
   ]
  },
  {
   "cell_type": "markdown",
   "metadata": {},
   "source": [
    "given the following un-normalized posterior distribution:"
   ]
  },
  {
   "cell_type": "markdown",
   "metadata": {},
   "source": [
    "$$\n",
    "g(\\theta \\mid x) \\propto \\frac{1}{2} \\exp -\\frac{(\\theta+3)^{2}}{2}+\\frac{1}{2} \\exp -\\frac{(\\theta-3)^{2}}{2}\n",
    "$$"
   ]
  },
  {
   "cell_type": "markdown",
   "metadata": {
    "vscode": {
     "languageId": "r"
    }
   },
   "source": [
    "•draw a Markov Chain from the posterior distribution using a Metropolis-Hastings algorithm\n",
    "\n",
    "•use a Norm (0,1) as random-walk candidate density\n",
    "\n",
    "•plot the sampled distribution\n",
    "\n",
    "•analyze the chain with the CODA package and plot the chain autocorrelation\n",
    "\n",
    "•try to use different burn-in cycles and thinning and plot the corresponding posterior distribution\n",
    "and the chain autocorrelation function. What are the best parameters ?"
   ]
  },
  {
   "cell_type": "code",
   "execution_count": 23,
   "metadata": {
    "vscode": {
     "languageId": "r"
    }
   },
   "outputs": [
    {
     "ename": "ERROR",
     "evalue": "Error in parse(text = x, srcfile = src): <text>:41:30: unexpected '='\n40: b = result[, 2]\n41: result = data.frame(function =\n                                 ^\n",
     "output_type": "error",
     "traceback": [
      "Error in parse(text = x, srcfile = src): <text>:41:30: unexpected '='\n40: b = result[, 2]\n41: result = data.frame(function =\n                                 ^\nTraceback:\n"
     ]
    }
   ],
   "source": [
    "gfunc <- function(theta) {\n",
    "    return(0.5 * exp(-((theta + 3)^2 / 2)) + 0.5 * exp((theta - 3)^2 / 2))\n",
    "}\n",
    "\n",
    "metropolis <- function(func, theta_init, n_samples) {\n",
    "    # Initialization\n",
    "    theta_curr <- theta_init \n",
    "    func_curr <- func(theta_curr)\n",
    "    func_samp <- matrix(data=NA, nrow=n_samples, ncol=2)\n",
    "    n_accept <- 0\n",
    "\n",
    "    for (n in 1:n_samples) {\n",
    "        # Extract the proposed state\n",
    "        theta_prop <- rnorm(1, mean <- 0, sd <- 1)\n",
    "        func_prop <- func(theta_prop)\n",
    "        logMR <- func_prop - func_curr  ## Log10 of func must be given in \n",
    "\n",
    "        if (logMR>=0 || logMR<=rnorm(1)) {\n",
    "            theta_curr <- theta_prop\n",
    "            func_curr <- func_prop\n",
    "            n_accept <- n_accept + 1\n",
    "        }\n",
    "        func_samp[n, 1] <- func_curr\n",
    "        func_samp[n, 2] <- theta_curr\n",
    "    }\n",
    "    return(func_samp)\n",
    "}\n",
    "\n",
    "# Testing\n",
    "theta_init <- 2 \n",
    "n_samples <- 1e5\n",
    "func_test <- function(theta) {\n",
    "    return(log10(gfunc(theta)))\n",
    "}\n",
    "\n",
    "set.seed(12345)\n",
    "result <- metropolis(func_test, theta_init, n_samples)\n",
    "#result[, 1]\n",
    "a = result[, 1]\n",
    "b = result[, 2]\n",
    "result = data.frame(function = a, theta = b)\n",
    "result"
   ]
  },
  {
   "cell_type": "code",
   "execution_count": null,
   "metadata": {
    "vscode": {
     "languageId": "r"
    }
   },
   "outputs": [],
   "source": []
  }
 ],
 "metadata": {
  "kernelspec": {
   "display_name": "R",
   "language": "R",
   "name": "ir"
  },
  "language_info": {
   "codemirror_mode": "r",
   "file_extension": ".r",
   "mimetype": "text/x-r-source",
   "name": "R",
   "pygments_lexer": "r",
   "version": "4.3.3"
  }
 },
 "nbformat": 4,
 "nbformat_minor": 2
}
