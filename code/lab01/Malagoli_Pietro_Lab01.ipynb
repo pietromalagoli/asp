{
 "cells": [
  {
   "cell_type": "markdown",
   "metadata": {},
   "source": [
    "Laboratory exercise due to 24th of April 2024. "
   ]
  },
  {
   "cell_type": "markdown",
   "metadata": {},
   "source": [
    "Load the necessary libraries:"
   ]
  },
  {
   "cell_type": "code",
   "execution_count": 1,
   "metadata": {
    "vscode": {
     "languageId": "r"
    }
   },
   "outputs": [
    {
     "name": "stderr",
     "output_type": "stream",
     "text": [
      "── \u001b[1mAttaching core tidyverse packages\u001b[22m ──────────────────────── tidyverse 2.0.0 ──\n",
      "\u001b[32m✔\u001b[39m \u001b[34mdplyr    \u001b[39m 1.1.4     \u001b[32m✔\u001b[39m \u001b[34mreadr    \u001b[39m 2.1.5\n",
      "\u001b[32m✔\u001b[39m \u001b[34mforcats  \u001b[39m 1.0.0     \u001b[32m✔\u001b[39m \u001b[34mstringr  \u001b[39m 1.5.1\n",
      "\u001b[32m✔\u001b[39m \u001b[34mggplot2  \u001b[39m 3.5.0     \u001b[32m✔\u001b[39m \u001b[34mtibble   \u001b[39m 3.2.1\n",
      "\u001b[32m✔\u001b[39m \u001b[34mlubridate\u001b[39m 1.9.3     \u001b[32m✔\u001b[39m \u001b[34mtidyr    \u001b[39m 1.3.1\n",
      "\u001b[32m✔\u001b[39m \u001b[34mpurrr    \u001b[39m 1.0.2     \n",
      "── \u001b[1mConflicts\u001b[22m ────────────────────────────────────────── tidyverse_conflicts() ──\n",
      "\u001b[31m✖\u001b[39m \u001b[34mdplyr\u001b[39m::\u001b[32mfilter()\u001b[39m masks \u001b[34mstats\u001b[39m::filter()\n",
      "\u001b[31m✖\u001b[39m \u001b[34mdplyr\u001b[39m::\u001b[32mlag()\u001b[39m    masks \u001b[34mstats\u001b[39m::lag()\n",
      "\u001b[36mℹ\u001b[39m Use the conflicted package (\u001b[3m\u001b[34m<http://conflicted.r-lib.org/>\u001b[39m\u001b[23m) to force all conflicts to become errors\n"
     ]
    }
   ],
   "source": [
    "library(tidyverse)\n",
    "library(dplyr)\n",
    "library(geosphere)"
   ]
  },
  {
   "cell_type": "markdown",
   "metadata": {},
   "source": [
    "1) read the data and import in a data.frame or tibble structure"
   ]
  },
  {
   "cell_type": "code",
   "execution_count": 2,
   "metadata": {
    "vscode": {
     "languageId": "r"
    }
   },
   "outputs": [],
   "source": [
    "df2 <- read.csv(\"Data_CitiBike/JC-201902-citibike-tripdata.csv\")\n",
    "df3 <- read.csv(\"Data_CitiBike/JC-201903-citibike-tripdata.csv\")\n",
    "df4 <- read.csv(\"Data_CitiBike/JC-201904-citibike-tripdata.csv\")\n",
    "df5 <- read.csv(\"Data_CitiBike/JC-201905-citibike-tripdata.csv\")\n",
    "df6 <- read.csv(\"Data_CitiBike/JC-201906-citibike-tripdata.csv\")"
   ]
  },
  {
   "cell_type": "code",
   "execution_count": 3,
   "metadata": {
    "vscode": {
     "languageId": "r"
    }
   },
   "outputs": [
    {
     "data": {
      "text/html": [
       "150792"
      ],
      "text/latex": [
       "150792"
      ],
      "text/markdown": [
       "150792"
      ],
      "text/plain": [
       "[1] 150792"
      ]
     },
     "metadata": {},
     "output_type": "display_data"
    }
   ],
   "source": [
    "a <- nrow(df2)+nrow(df3)+nrow(df4)+nrow(df5)+nrow(df6)\n",
    "a"
   ]
  },
  {
   "cell_type": "markdown",
   "metadata": {},
   "source": [
    "2) merge the five data frames in a unique structure"
   ]
  },
  {
   "cell_type": "code",
   "execution_count": 4,
   "metadata": {
    "vscode": {
     "languageId": "r"
    }
   },
   "outputs": [],
   "source": [
    "df <- rbind(df2, df3, df4, df5, df6)"
   ]
  },
  {
   "cell_type": "code",
   "execution_count": 5,
   "metadata": {
    "vscode": {
     "languageId": "r"
    }
   },
   "outputs": [
    {
     "data": {
      "text/html": [
       "150792"
      ],
      "text/latex": [
       "150792"
      ],
      "text/markdown": [
       "150792"
      ],
      "text/plain": [
       "[1] 150792"
      ]
     },
     "metadata": {},
     "output_type": "display_data"
    },
    {
     "data": {
      "text/html": [
       "TRUE"
      ],
      "text/latex": [
       "TRUE"
      ],
      "text/markdown": [
       "TRUE"
      ],
      "text/plain": [
       "[1] TRUE"
      ]
     },
     "metadata": {},
     "output_type": "display_data"
    }
   ],
   "source": [
    "nrow(df)\n",
    "nrow(df) == a "
   ]
  },
  {
   "cell_type": "markdown",
   "metadata": {},
   "source": [
    "3) check for missing data and remove it, if any"
   ]
  },
  {
   "cell_type": "code",
   "execution_count": 6,
   "metadata": {
    "vscode": {
     "languageId": "r"
    }
   },
   "outputs": [
    {
     "data": {
      "text/html": [
       "150792"
      ],
      "text/latex": [
       "150792"
      ],
      "text/markdown": [
       "150792"
      ],
      "text/plain": [
       "[1] 150792"
      ]
     },
     "metadata": {},
     "output_type": "display_data"
    }
   ],
   "source": [
    "df <- na.omit(df)\n",
    "nrow(df)"
   ]
  },
  {
   "cell_type": "markdown",
   "metadata": {},
   "source": [
    "As can be seen from the number of rows of the dataframe df printed above, since such number does not change, it means that no rows had missing data."
   ]
  },
  {
   "cell_type": "markdown",
   "metadata": {},
   "source": [
    "4.1) compute the average and the median trip duration in minutes"
   ]
  },
  {
   "cell_type": "code",
   "execution_count": 7,
   "metadata": {
    "vscode": {
     "languageId": "r"
    }
   },
   "outputs": [
    {
     "data": {
      "text/html": [
       "<table class=\"dataframe\">\n",
       "<caption>A data.frame: 6 × 15</caption>\n",
       "<thead>\n",
       "\t<tr><th></th><th scope=col>tripduration</th><th scope=col>starttime</th><th scope=col>stoptime</th><th scope=col>start.station.id</th><th scope=col>start.station.name</th><th scope=col>start.station.latitude</th><th scope=col>start.station.longitude</th><th scope=col>end.station.id</th><th scope=col>end.station.name</th><th scope=col>end.station.latitude</th><th scope=col>end.station.longitude</th><th scope=col>bikeid</th><th scope=col>usertype</th><th scope=col>birth.year</th><th scope=col>gender</th></tr>\n",
       "\t<tr><th></th><th scope=col>&lt;int&gt;</th><th scope=col>&lt;chr&gt;</th><th scope=col>&lt;chr&gt;</th><th scope=col>&lt;int&gt;</th><th scope=col>&lt;chr&gt;</th><th scope=col>&lt;dbl&gt;</th><th scope=col>&lt;dbl&gt;</th><th scope=col>&lt;int&gt;</th><th scope=col>&lt;chr&gt;</th><th scope=col>&lt;dbl&gt;</th><th scope=col>&lt;dbl&gt;</th><th scope=col>&lt;int&gt;</th><th scope=col>&lt;chr&gt;</th><th scope=col>&lt;int&gt;</th><th scope=col>&lt;int&gt;</th></tr>\n",
       "</thead>\n",
       "<tbody>\n",
       "\t<tr><th scope=row>1</th><td>142</td><td>2019-02-01 15:35:02.0820</td><td>2019-02-01 15:37:24.1360</td><td>3183</td><td>Exchange Place</td><td>40.71625</td><td>-74.03346</td><td>3639</td><td>Harborside      </td><td>40.71925</td><td>-74.03423</td><td>29677</td><td>Subscriber</td><td>1963</td><td>1</td></tr>\n",
       "\t<tr><th scope=row>2</th><td>223</td><td>2019-02-01 17:00:46.8900</td><td>2019-02-01 17:04:30.5500</td><td>3183</td><td>Exchange Place</td><td>40.71625</td><td>-74.03346</td><td>3681</td><td>Grand St        </td><td>40.71518</td><td>-74.03768</td><td>26234</td><td>Subscriber</td><td>1992</td><td>2</td></tr>\n",
       "\t<tr><th scope=row>3</th><td>106</td><td>2019-02-01 17:08:01.3260</td><td>2019-02-01 17:09:47.4400</td><td>3183</td><td>Exchange Place</td><td>40.71625</td><td>-74.03346</td><td>3184</td><td>Paulus Hook     </td><td>40.71415</td><td>-74.03355</td><td>29588</td><td>Subscriber</td><td>1960</td><td>1</td></tr>\n",
       "\t<tr><th scope=row>4</th><td>370</td><td>2019-02-01 17:09:31.2100</td><td>2019-02-01 17:15:41.6550</td><td>3183</td><td>Exchange Place</td><td>40.71625</td><td>-74.03346</td><td>3211</td><td>Newark Ave      </td><td>40.72153</td><td>-74.04630</td><td>29250</td><td>Subscriber</td><td>1976</td><td>1</td></tr>\n",
       "\t<tr><th scope=row>5</th><td>315</td><td>2019-02-01 17:19:53.2490</td><td>2019-02-01 17:25:09.1400</td><td>3183</td><td>Exchange Place</td><td>40.71625</td><td>-74.03346</td><td>3273</td><td><span style=white-space:pre-wrap>Manila &amp; 1st    </span></td><td>40.72165</td><td>-74.04288</td><td>29586</td><td>Subscriber</td><td>1980</td><td>1</td></tr>\n",
       "\t<tr><th scope=row>6</th><td>145</td><td>2019-02-01 17:32:53.2630</td><td>2019-02-01 17:35:18.7510</td><td>3183</td><td>Exchange Place</td><td>40.71625</td><td>-74.03346</td><td>3214</td><td>Essex Light Rail</td><td>40.71277</td><td>-74.03649</td><td>26153</td><td>Subscriber</td><td>1984</td><td>1</td></tr>\n",
       "</tbody>\n",
       "</table>\n"
      ],
      "text/latex": [
       "A data.frame: 6 × 15\n",
       "\\begin{tabular}{r|lllllllllllllll}\n",
       "  & tripduration & starttime & stoptime & start.station.id & start.station.name & start.station.latitude & start.station.longitude & end.station.id & end.station.name & end.station.latitude & end.station.longitude & bikeid & usertype & birth.year & gender\\\\\n",
       "  & <int> & <chr> & <chr> & <int> & <chr> & <dbl> & <dbl> & <int> & <chr> & <dbl> & <dbl> & <int> & <chr> & <int> & <int>\\\\\n",
       "\\hline\n",
       "\t1 & 142 & 2019-02-01 15:35:02.0820 & 2019-02-01 15:37:24.1360 & 3183 & Exchange Place & 40.71625 & -74.03346 & 3639 & Harborside       & 40.71925 & -74.03423 & 29677 & Subscriber & 1963 & 1\\\\\n",
       "\t2 & 223 & 2019-02-01 17:00:46.8900 & 2019-02-01 17:04:30.5500 & 3183 & Exchange Place & 40.71625 & -74.03346 & 3681 & Grand St         & 40.71518 & -74.03768 & 26234 & Subscriber & 1992 & 2\\\\\n",
       "\t3 & 106 & 2019-02-01 17:08:01.3260 & 2019-02-01 17:09:47.4400 & 3183 & Exchange Place & 40.71625 & -74.03346 & 3184 & Paulus Hook      & 40.71415 & -74.03355 & 29588 & Subscriber & 1960 & 1\\\\\n",
       "\t4 & 370 & 2019-02-01 17:09:31.2100 & 2019-02-01 17:15:41.6550 & 3183 & Exchange Place & 40.71625 & -74.03346 & 3211 & Newark Ave       & 40.72153 & -74.04630 & 29250 & Subscriber & 1976 & 1\\\\\n",
       "\t5 & 315 & 2019-02-01 17:19:53.2490 & 2019-02-01 17:25:09.1400 & 3183 & Exchange Place & 40.71625 & -74.03346 & 3273 & Manila \\& 1st     & 40.72165 & -74.04288 & 29586 & Subscriber & 1980 & 1\\\\\n",
       "\t6 & 145 & 2019-02-01 17:32:53.2630 & 2019-02-01 17:35:18.7510 & 3183 & Exchange Place & 40.71625 & -74.03346 & 3214 & Essex Light Rail & 40.71277 & -74.03649 & 26153 & Subscriber & 1984 & 1\\\\\n",
       "\\end{tabular}\n"
      ],
      "text/markdown": [
       "\n",
       "A data.frame: 6 × 15\n",
       "\n",
       "| <!--/--> | tripduration &lt;int&gt; | starttime &lt;chr&gt; | stoptime &lt;chr&gt; | start.station.id &lt;int&gt; | start.station.name &lt;chr&gt; | start.station.latitude &lt;dbl&gt; | start.station.longitude &lt;dbl&gt; | end.station.id &lt;int&gt; | end.station.name &lt;chr&gt; | end.station.latitude &lt;dbl&gt; | end.station.longitude &lt;dbl&gt; | bikeid &lt;int&gt; | usertype &lt;chr&gt; | birth.year &lt;int&gt; | gender &lt;int&gt; |\n",
       "|---|---|---|---|---|---|---|---|---|---|---|---|---|---|---|---|\n",
       "| 1 | 142 | 2019-02-01 15:35:02.0820 | 2019-02-01 15:37:24.1360 | 3183 | Exchange Place | 40.71625 | -74.03346 | 3639 | Harborside       | 40.71925 | -74.03423 | 29677 | Subscriber | 1963 | 1 |\n",
       "| 2 | 223 | 2019-02-01 17:00:46.8900 | 2019-02-01 17:04:30.5500 | 3183 | Exchange Place | 40.71625 | -74.03346 | 3681 | Grand St         | 40.71518 | -74.03768 | 26234 | Subscriber | 1992 | 2 |\n",
       "| 3 | 106 | 2019-02-01 17:08:01.3260 | 2019-02-01 17:09:47.4400 | 3183 | Exchange Place | 40.71625 | -74.03346 | 3184 | Paulus Hook      | 40.71415 | -74.03355 | 29588 | Subscriber | 1960 | 1 |\n",
       "| 4 | 370 | 2019-02-01 17:09:31.2100 | 2019-02-01 17:15:41.6550 | 3183 | Exchange Place | 40.71625 | -74.03346 | 3211 | Newark Ave       | 40.72153 | -74.04630 | 29250 | Subscriber | 1976 | 1 |\n",
       "| 5 | 315 | 2019-02-01 17:19:53.2490 | 2019-02-01 17:25:09.1400 | 3183 | Exchange Place | 40.71625 | -74.03346 | 3273 | Manila &amp; 1st     | 40.72165 | -74.04288 | 29586 | Subscriber | 1980 | 1 |\n",
       "| 6 | 145 | 2019-02-01 17:32:53.2630 | 2019-02-01 17:35:18.7510 | 3183 | Exchange Place | 40.71625 | -74.03346 | 3214 | Essex Light Rail | 40.71277 | -74.03649 | 26153 | Subscriber | 1984 | 1 |\n",
       "\n"
      ],
      "text/plain": [
       "  tripduration starttime                stoptime                \n",
       "1 142          2019-02-01 15:35:02.0820 2019-02-01 15:37:24.1360\n",
       "2 223          2019-02-01 17:00:46.8900 2019-02-01 17:04:30.5500\n",
       "3 106          2019-02-01 17:08:01.3260 2019-02-01 17:09:47.4400\n",
       "4 370          2019-02-01 17:09:31.2100 2019-02-01 17:15:41.6550\n",
       "5 315          2019-02-01 17:19:53.2490 2019-02-01 17:25:09.1400\n",
       "6 145          2019-02-01 17:32:53.2630 2019-02-01 17:35:18.7510\n",
       "  start.station.id start.station.name start.station.latitude\n",
       "1 3183             Exchange Place     40.71625              \n",
       "2 3183             Exchange Place     40.71625              \n",
       "3 3183             Exchange Place     40.71625              \n",
       "4 3183             Exchange Place     40.71625              \n",
       "5 3183             Exchange Place     40.71625              \n",
       "6 3183             Exchange Place     40.71625              \n",
       "  start.station.longitude end.station.id end.station.name end.station.latitude\n",
       "1 -74.03346               3639           Harborside       40.71925            \n",
       "2 -74.03346               3681           Grand St         40.71518            \n",
       "3 -74.03346               3184           Paulus Hook      40.71415            \n",
       "4 -74.03346               3211           Newark Ave       40.72153            \n",
       "5 -74.03346               3273           Manila & 1st     40.72165            \n",
       "6 -74.03346               3214           Essex Light Rail 40.71277            \n",
       "  end.station.longitude bikeid usertype   birth.year gender\n",
       "1 -74.03423             29677  Subscriber 1963       1     \n",
       "2 -74.03768             26234  Subscriber 1992       2     \n",
       "3 -74.03355             29588  Subscriber 1960       1     \n",
       "4 -74.04630             29250  Subscriber 1976       1     \n",
       "5 -74.04288             29586  Subscriber 1980       1     \n",
       "6 -74.03649             26153  Subscriber 1984       1     "
      ]
     },
     "metadata": {},
     "output_type": "display_data"
    }
   ],
   "source": [
    "head(df)"
   ]
  },
  {
   "cell_type": "code",
   "execution_count": 8,
   "metadata": {
    "vscode": {
     "languageId": "r"
    }
   },
   "outputs": [
    {
     "name": "stdout",
     "output_type": "stream",
     "text": [
      "[1] \"Mean_trip trip duration: 768.642766194493\"\n",
      "[1] \"Trip duration var_trip: 341\"\n"
     ]
    }
   ],
   "source": [
    "mean_trip <- mean(df$tripduration)\n",
    "med_trip <- median(df$tripduration)\n",
    "print(paste(\"Mean_trip trip duration:\", mean_trip))\n",
    "print(paste(\"Trip duration var_trip:\", med_trip))"
   ]
  },
  {
   "cell_type": "markdown",
   "metadata": {},
   "source": [
    "4.2) evaluate the minimum and maximum trip duration; does that sound like a reasonable value?"
   ]
  },
  {
   "cell_type": "code",
   "execution_count": 9,
   "metadata": {
    "vscode": {
     "languageId": "r"
    }
   },
   "outputs": [
    {
     "name": "stdout",
     "output_type": "stream",
     "text": [
      "[1] \"Minimum trip duration: 61\"\n",
      "[1] \"Maximum trip duration: 1729020\"\n"
     ]
    }
   ],
   "source": [
    "min_trip <- min(df$tripduration)\n",
    "max_trip <- max(df$tripduration)\n",
    "print(paste(\"Minimum trip duration:\",min_trip))\n",
    "print(paste(\"Maximum trip duration:\",max_trip))"
   ]
  },
  {
   "cell_type": "markdown",
   "metadata": {},
   "source": [
    "As can be seen from the results printed above, the maximum trip duration is not a reasonable value for a bike trip, therefore it can be labelled as an outlier. "
   ]
  },
  {
   "cell_type": "markdown",
   "metadata": {},
   "source": [
    "4.3) repeat the calculation of the average (and the median) trip duration by excluding trips longer than\n",
    "3 hours. Next, evaluate the number of skimmed entries"
   ]
  },
  {
   "cell_type": "code",
   "execution_count": 10,
   "metadata": {
    "vscode": {
     "languageId": "r"
    }
   },
   "outputs": [],
   "source": [
    "new_mean<-function(x){\n",
    "    new_x <- x[x < 10800]\n",
    "    return(mean(new_x))\n",
    "}\n",
    "\n",
    "new_med<-function(x){\n",
    "    new_x <- x[x < 10800]\n",
    "    return(median(new_x))\n",
    "}"
   ]
  },
  {
   "cell_type": "code",
   "execution_count": 11,
   "metadata": {
    "vscode": {
     "languageId": "r"
    }
   },
   "outputs": [
    {
     "data": {
      "text/html": [
       "150792"
      ],
      "text/latex": [
       "150792"
      ],
      "text/markdown": [
       "150792"
      ],
      "text/plain": [
       "[1] 150792"
      ]
     },
     "metadata": {},
     "output_type": "display_data"
    },
    {
     "data": {
      "text/html": [
       "150364"
      ],
      "text/latex": [
       "150364"
      ],
      "text/markdown": [
       "150364"
      ],
      "text/plain": [
       "[1] 150364"
      ]
     },
     "metadata": {},
     "output_type": "display_data"
    }
   ],
   "source": [
    "length(df$tripduration)\n",
    "length(df$tripduration[df$tripduration < 10800])"
   ]
  },
  {
   "cell_type": "code",
   "execution_count": 12,
   "metadata": {
    "vscode": {
     "languageId": "r"
    }
   },
   "outputs": [
    {
     "name": "stdout",
     "output_type": "stream",
     "text": [
      "[1] \"Mean_trip trip duration: 553.31404458514\"\n",
      "[1] \"Trip duration var_trip: 340\"\n"
     ]
    }
   ],
   "source": [
    "mean_trip2 <- new_mean(df$tripduration)\n",
    "med_trip2 <- new_med(df$tripduration)\n",
    "print(paste(\"Mean_trip trip duration:\", mean_trip2))\n",
    "print(paste(\"Trip duration var_trip:\", med_trip2))"
   ]
  },
  {
   "cell_type": "code",
   "execution_count": 13,
   "metadata": {
    "vscode": {
     "languageId": "r"
    }
   },
   "outputs": [
    {
     "name": "stdout",
     "output_type": "stream",
     "text": [
      "[1] \"Number of skimmed entries: 428\"\n"
     ]
    }
   ],
   "source": [
    "print(paste(\"Number of skimmed entries:\",length(df$tripduration)-length(df$tripduration[df$tripduration < 10800])))"
   ]
  },
  {
   "cell_type": "markdown",
   "metadata": {},
   "source": [
    "4.4) plot the distribution of trip duration after the skimming of the previous poin"
   ]
  },
  {
   "cell_type": "code",
   "execution_count": 14,
   "metadata": {
    "vscode": {
     "languageId": "r"
    }
   },
   "outputs": [
    {
     "data": {
      "image/png": "[encoded data removed]",
      "text/plain": [
       "Plot with title “Histogram of skimmed_trip”"
      ]
     },
     "metadata": {
      "image/png": {
       "height": 420,
       "width": 420
      }
     },
     "output_type": "display_data"
    }
   ],
   "source": [
    "skimmed_trip <- df$tripduration[df$tripduration<10800]\n",
    "hist(skimmed_trip)"
   ]
  },
  {
   "cell_type": "markdown",
   "metadata": {},
   "source": [
    "5) Plot the monthly average trip duration"
   ]
  },
  {
   "cell_type": "code",
   "execution_count": 15,
   "metadata": {
    "vscode": {
     "languageId": "r"
    }
   },
   "outputs": [
    {
     "name": "stdout",
     "output_type": "stream",
     "text": [
      "[1] \"Mean for February : 605.339563695125\"\n",
      "[1] \"Mean for March : 546.176353469457\"\n",
      "[1] \"Mean for April : 713.995674007744\"\n",
      "[1] \"Mean for May : 824.1199944652\"\n",
      "[1] \"Mean for June : 973.68995688562\"\n"
     ]
    },
    {
     "data": {
      "image/png": "[encoded data removed]",
      "text/plain": [
       "plot without title"
      ]
     },
     "metadata": {
      "image/png": {
       "height": 420,
       "width": 420
      }
     },
     "output_type": "display_data"
    }
   ],
   "source": [
    "means<-c(mean(df2$tripduration),mean(df3$tripduration),mean(df4$tripduration),mean(df5$tripduration),mean(df6$tripduration))\n",
    "month<-c(\"February\",\"March\",\"April\",\"May\",\"June\")\n",
    "plot(c(2,3,4,5,6),means,type='b',col='red')\n",
    "for (i in 2:6){\n",
    "    print(paste(\"Mean for\",month[i-1],\":\",means[i-1]))\n",
    "}"
   ]
  },
  {
   "cell_type": "markdown",
   "metadata": {},
   "source": [
    "6.1)plot the number of rides per day"
   ]
  },
  {
   "cell_type": "code",
   "execution_count": 16,
   "metadata": {
    "vscode": {
     "languageId": "r"
    }
   },
   "outputs": [],
   "source": [
    "df$date <- substr(df$starttime,1,10)"
   ]
  },
  {
   "cell_type": "code",
   "execution_count": 17,
   "metadata": {
    "vscode": {
     "languageId": "r"
    }
   },
   "outputs": [],
   "source": [
    "rides_per_day <- df %>%\n",
    " group_by(date) %>%\n",
    " summarize(num_rides = n())"
   ]
  },
  {
   "cell_type": "code",
   "execution_count": 18,
   "metadata": {
    "vscode": {
     "languageId": "r"
    }
   },
   "outputs": [
    {
     "data": {
      "image/png": "[encoded data removed]",
      "text/plain": [
       "plot without title"
      ]
     },
     "metadata": {
      "image/png": {
       "height": 420,
       "width": 420
      }
     },
     "output_type": "display_data"
    }
   ],
   "source": [
    "barplot(rides_per_day$num_rides)"
   ]
  },
  {
   "cell_type": "code",
   "execution_count": null,
   "metadata": {
    "vscode": {
     "languageId": "r"
    }
   },
   "outputs": [],
   "source": []
  }
 ],
 "metadata": {
  "kernelspec": {
   "display_name": "R",
   "language": "R",
   "name": "ir"
  },
  "language_info": {
   "codemirror_mode": "r",
   "file_extension": ".r",
   "mimetype": "text/x-r-source",
   "name": "R",
   "pygments_lexer": "r",
   "version": "4.3.3"
  }
 },
 "nbformat": 4,
 "nbformat_minor": 2
}
