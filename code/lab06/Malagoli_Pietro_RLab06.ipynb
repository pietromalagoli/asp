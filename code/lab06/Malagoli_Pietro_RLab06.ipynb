{
 "cells": [
  {
   "cell_type": "markdown",
   "metadata": {},
   "source": [
    "# Exercise 1 #"
   ]
  },
  {
   "cell_type": "markdown",
   "metadata": {},
   "source": [
    "• Considering the following to sets of observations taken over a fixed large time interval in two different\n",
    "corps:"
   ]
  },
  {
   "cell_type": "markdown",
   "metadata": {},
   "source": [
    "| $y$ death soldiers | 0 | 1 | 2 | 3 | 4 | $\\geq 5$ |\n",
    "| :---: | :---: | :---: | :---: | :---: | :---: | :---: |\n",
    "| $n_{1}$ observations | 109 | 65 | 22 | 3 | 1 | 0 |\n",
    "| $n_{2}$ observations | 144 | 91 | 32 | 11 | 2 | 0 |"
   ]
  },
  {
   "cell_type": "markdown",
   "metadata": {},
   "source": [
    "(a) assuming a uniform prior, compute and plot the posterior distribution for λ, the death rate over\n",
    "the measurement time. Determine the posterior mean, median and variance, and compute the 95%\n",
    "credibility interval."
   ]
  },
  {
   "cell_type": "code",
   "execution_count": 10,
   "metadata": {
    "vscode": {
     "languageId": "r"
    }
   },
   "outputs": [],
   "source": [
    "y <- c(0, 1, 2, 3, 4, 5)\n",
    "n1 <- c(109, 65, 22, 3, 1, 0)\n",
    "n2 <- c(144, 91, 32, 11, 2, 0)\n",
    "n <- n1 + n2\n",
    "\n",
    "data <- data.frame(y = y, n = n)\n",
    "\n",
    "space <- seq(0, max(n) + 10, 1)\n",
    "\n",
    "prior <- replicate(length(space), 1 / length(space))\n",
    "#print(prior)\n",
    "\n",
    "likelihood <- dpois(sum(n), space)"
   ]
  },
  {
   "cell_type": "code",
   "execution_count": null,
   "metadata": {
    "vscode": {
     "languageId": "r"
    }
   },
   "outputs": [],
   "source": []
  }
 ],
 "metadata": {
  "kernelspec": {
   "display_name": "R",
   "language": "R",
   "name": "ir"
  },
  "language_info": {
   "codemirror_mode": "r",
   "file_extension": ".r",
   "mimetype": "text/x-r-source",
   "name": "R",
   "pygments_lexer": "r",
   "version": "4.3.3"
  }
 },
 "nbformat": 4,
 "nbformat_minor": 2
}
